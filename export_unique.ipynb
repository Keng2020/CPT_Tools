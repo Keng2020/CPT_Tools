{
 "cells": [
  {
   "cell_type": "code",
   "execution_count": 4,
   "metadata": {},
   "outputs": [],
   "source": [
    "import pandas as pd\n",
    "\n",
    "df = pd.read_csv('results_.csv')\n",
    "\n",
    "# Drop duplicate rows based on the 'Cluster' column\n",
    "df_unique = df.drop_duplicates(subset=['Cluster'], keep='first')\n",
    "df_unique.to_csv('cluster_name_pairs.csv', index=False)\n",
    "# # Display the filtered DataFrame\n",
    "# print(df_unique)\n"
   ]
  }
 ],
 "metadata": {
  "kernelspec": {
   "display_name": "Python 3",
   "language": "python",
   "name": "python3"
  },
  "language_info": {
   "codemirror_mode": {
    "name": "ipython",
    "version": 3
   },
   "file_extension": ".py",
   "mimetype": "text/x-python",
   "name": "python",
   "nbconvert_exporter": "python",
   "pygments_lexer": "ipython3",
   "version": "3.10.6"
  }
 },
 "nbformat": 4,
 "nbformat_minor": 2
}
